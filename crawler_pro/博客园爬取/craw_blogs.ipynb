{
 "cells": [
  {
   "cell_type": "code",
   "execution_count": 1,
   "metadata": {},
   "outputs": [
    {
     "name": "stdout",
     "output_type": "stream",
     "text": [
      "a http://www.crazyant.net/3091.html Python怎样实现PDF文件的分割\n",
      "a http://www.crazyant.net/3086.html Python怎样提取Excel中的图片\n",
      "a http://www.crazyant.net/3075.html django-crispy-forms报错说bootstrap4/uni_form.html 模板不存在\n",
      "a http://www.crazyant.net/3059.html 宝塔Linux通过Gunicorn部署django\n",
      "a http://www.crazyant.net/3056.html lxml.etree, element.text doesn’t return the entire text from an element\n",
      "a http://www.crazyant.net/3050.html Python爬虫之伪表头pseudo headers\n",
      "a http://www.crazyant.net/3047.html Python发送邮件代码\n",
      "a http://www.crazyant.net/3032.html 怎样给Anaconda配置国内的清华源\n"
     ]
    }
   ],
   "source": [
    "import requests\n",
    "from bs4 import BeautifulSoup\n",
    "url = 'http://www.crazyant.net/'\n",
    "\n",
    "r = requests.get(url)\n",
    "if r.status_code != 200:\n",
    "    raise Exception(\"Error: status code is not 200\")\n",
    "\n",
    "html_doc = r.text\n",
    "soup = BeautifulSoup(html_doc, 'html.parser')\n",
    "\n",
    "h2_nodes = soup.find_all(\"h2\",class_=\"entry-title\")#\n",
    "for h2_node in h2_nodes:\n",
    "    link = h2_node.find(\"a\")\n",
    "    print(link.name,link[\"href\"],link.get_text())"
   ]
  },
  {
   "cell_type": "code",
   "execution_count": null,
   "metadata": {},
   "outputs": [],
   "source": []
  }
 ],
 "metadata": {
  "kernelspec": {
   "display_name": "Python 3.7.13 ('torch1.7.1')",
   "language": "python",
   "name": "python3"
  },
  "language_info": {
   "codemirror_mode": {
    "name": "ipython",
    "version": 3
   },
   "file_extension": ".py",
   "mimetype": "text/x-python",
   "name": "python",
   "nbconvert_exporter": "python",
   "pygments_lexer": "ipython3",
   "version": "3.7.13"
  },
  "orig_nbformat": 4,
  "vscode": {
   "interpreter": {
    "hash": "687c8f21f41a261258b6b8472f206003a5139c4deaaa2118678d5c0c86ae6196"
   }
  }
 },
 "nbformat": 4,
 "nbformat_minor": 2
}
