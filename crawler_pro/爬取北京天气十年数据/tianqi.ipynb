{
 "cells": [
  {
   "cell_type": "code",
   "execution_count": 1,
   "metadata": {},
   "outputs": [],
   "source": [
    "import pandas as pd\n",
    "import requests\n",
    "import os\n",
    "url = 'https://tianqi.2345.com/Pc/GetHistory'"
   ]
  },
  {
   "cell_type": "code",
   "execution_count": 2,
   "metadata": {},
   "outputs": [],
   "source": [
    "def crawl_table(year,month):\n",
    "    \"\"\"提供年份月份，返回一个dataframe\"\"\"\n",
    "    #请求参数\n",
    "    params = {\n",
    "        'areaInfo[areaId]': 54511,\n",
    "        'areaInfo[areaType]': 2,\n",
    "        'date[year]': year,\n",
    "        'date[month]': month\n",
    "    }\n",
    "    #请求头 反爬\n",
    "    headers = {\n",
    "        \"User-Agent\": \"\"\"Mozilla/5.0 (Windows NT 10.0; Win64; x64) AppleWebKit/537.36 (KHTML, like Gecko) Chrome/110.0.0.0 Safari/537.36\"\"\"\n",
    "    }\n",
    "    resp = requests.get(url, params=params, headers=headers)\n",
    "    data = resp.json()[\"data\"]\n",
    "    # data frame\n",
    "    df = pd.read_html(data)[0]\n",
    "    return df\n"
   ]
  },
  {
   "cell_type": "code",
   "execution_count": 3,
   "metadata": {},
   "outputs": [
    {
     "name": "stdout",
     "output_type": "stream",
     "text": [
      "爬取 2011 1\n",
      "爬取 2011 2\n",
      "爬取 2011 3\n",
      "爬取 2011 4\n",
      "爬取 2011 5\n",
      "爬取 2011 6\n",
      "爬取 2011 7\n",
      "爬取 2011 8\n",
      "爬取 2011 9\n",
      "爬取 2011 10\n",
      "爬取 2011 11\n",
      "爬取 2011 12\n",
      "爬取 2012 1\n",
      "爬取 2012 2\n",
      "爬取 2012 3\n",
      "爬取 2012 4\n",
      "爬取 2012 5\n",
      "爬取 2012 6\n",
      "爬取 2012 7\n",
      "爬取 2012 8\n",
      "爬取 2012 9\n",
      "爬取 2012 10\n",
      "爬取 2012 11\n",
      "爬取 2012 12\n"
     ]
    }
   ],
   "source": [
    "df_list = []\n",
    "for year in range(2011,2013):\n",
    "    for month in range(1,13):\n",
    "        print(\"爬取\",year,month)\n",
    "        df = crawl_table(year,month)\n",
    "        df_list.append(df)\n",
    "pd_weather = pd.concat(df_list)"
   ]
  },
  {
   "cell_type": "code",
   "execution_count": 9,
   "metadata": {},
   "outputs": [],
   "source": [
    "pd_weather.to_csv(\"weather.csv\",index=False,encoding=\"utf-8-sig\")"
   ]
  },
  {
   "cell_type": "code",
   "execution_count": null,
   "metadata": {},
   "outputs": [],
   "source": []
  }
 ],
 "metadata": {
  "kernelspec": {
   "display_name": "torch1.7.1",
   "language": "python",
   "name": "python3"
  },
  "language_info": {
   "codemirror_mode": {
    "name": "ipython",
    "version": 3
   },
   "file_extension": ".py",
   "mimetype": "text/x-python",
   "name": "python",
   "nbconvert_exporter": "python",
   "pygments_lexer": "ipython3",
   "version": "3.7.13"
  },
  "orig_nbformat": 4,
  "vscode": {
   "interpreter": {
    "hash": "687c8f21f41a261258b6b8472f206003a5139c4deaaa2118678d5c0c86ae6196"
   }
  }
 },
 "nbformat": 4,
 "nbformat_minor": 2
}
