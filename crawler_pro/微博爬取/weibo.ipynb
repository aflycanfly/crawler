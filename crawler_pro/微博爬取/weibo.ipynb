{
 "cells": [
  {
   "cell_type": "code",
   "execution_count": 1,
   "metadata": {},
   "outputs": [],
   "source": [
    "import fake_useragent\n",
    "import requests\n",
    "import json\n",
    "from  bs4 import BeautifulSoup\n",
    "import pprint\n",
    "import pandas as pd\n",
    "import numpy as np"
   ]
  },
  {
   "cell_type": "code",
   "execution_count": 2,
   "metadata": {},
   "outputs": [],
   "source": [
    "def get_useragent():\n",
    "    ua = fake_useragent.UserAgent()\n",
    "    return ua.random\n"
   ]
  },
  {
   "cell_type": "code",
   "execution_count": 3,
   "metadata": {},
   "outputs": [],
   "source": [
    "\n",
    "def get_weibo_like(url, params, headers):\n",
    "    r = requests.get(url, params=params, headers=headers)\n",
    "    r.encoding = 'utf-8'\n",
    "    json_data = json.loads(r.text)\n",
    "    return json_data\n"
   ]
  },
  {
   "cell_type": "code",
   "execution_count": 4,
   "metadata": {},
   "outputs": [],
   "source": [
    "#\n",
    "def process_weibo_like_list(json_data):\n",
    "    data_list = json_data[\"data\"][\"list\"]\n",
    "    datas = []\n",
    "    for data in data_list:\n",
    "        if \"screen_name\" not in  data[\"user\"]:\n",
    "            continue\n",
    "        screen_name = data[\"user\"][\"screen_name\"]\n",
    "        text_raw = data[\"text_raw\"]\n",
    "        datas.append({\n",
    "            \"screen_name\": screen_name,\n",
    "            \"text_raw\": text_raw\n",
    "        })\n",
    "    return datas\n"
   ]
  },
  {
   "cell_type": "code",
   "execution_count": 5,
   "metadata": {},
   "outputs": [],
   "source": [
    "#爬取第number页的数据\n",
    "def craw_page(number):\n",
    "    url = \"https://weibo.com/ajax/statuses/likelist\"\n",
    "    params = {\n",
    "        'uid': 6639911495,\n",
    "        'page': number\n",
    "    }\n",
    "    headers = {\n",
    "        'User-Agent': get_useragent(),\n",
    "        'cookie': \"SINAGLOBAL=6008923544490.623.1669600730018; SUBP=0033WrSXqPxfM725Ws9jqgMF55529P9D9WWh0Xsq1MAgxu2XAbnI-Sb55JpX5KMhUgL.Foqce0.4eK2X1K-2dJLoIEBLxK-L1h5L1-qLxKML1-BL1h5LxK-L1K2LB.BLxKnLB.qL1K5t; UOR=,,login.sina.com.cn; ULV=1678619453169:8:5:1:7351817887097.48.1678619452962:1678261498630; SCF=Ap2YMJwYeBXVWkX3383x4VI14durTT4lsVde7VL_sz4ywsxV7Jd7tJ4yjA4kDO5HEKhki79hdsJjELj9F_7Gozg.; SUB=_2A25JHBFUDeRhGeBI6FsY8S_IwjmIHXVqaAWcrDV8PUNbmtANLRjwkW9NRp7kGDhEQQd_w24UE_VdlRFzSuPNjSTi; ALF=1681911299; SSOLoginState=1679319300; PC_TOKEN=3bd4e2c9b2; XSRF-TOKEN=P7qjIF6DkD1zAyhSCJXxJmpz; WBPSESS=USfWtr-hzUv9dxm42OaQDLa7_1kqMNlxcjy8i3kHIdISf0sLPydmsc1APmCBGPvw_5NxjK2z5f-eonV3IUK80PzSFcZ7-cmhcDn04L8rX_S4civy6aXOPXoorETQ5gvHE12fbD4gkRSOeSbIAzu4Fw==\"\n",
    "    }\n",
    "    data_json = get_weibo_like(url, params, headers)\n",
    "    page_datas = process_weibo_like_list(data_json)\n",
    "    return page_datas\n"
   ]
  },
  {
   "cell_type": "code",
   "execution_count": 6,
   "metadata": {},
   "outputs": [],
   "source": [
    "all_pages_datas = []\n",
    "for number in range(1,10):\n",
    "    all_pages_datas.extend(craw_page(number))\n",
    "    "
   ]
  },
  {
   "cell_type": "code",
   "execution_count": 7,
   "metadata": {},
   "outputs": [],
   "source": [
    "df = pd.DataFrame(all_pages_datas)\n",
    "df.to_csv(\"weibo.csv\", index=False,encoding=\"utf-8-sig\")"
   ]
  },
  {
   "cell_type": "code",
   "execution_count": 8,
   "metadata": {},
   "outputs": [
    {
     "data": {
      "text/html": [
       "<div>\n",
       "<style scoped>\n",
       "    .dataframe tbody tr th:only-of-type {\n",
       "        vertical-align: middle;\n",
       "    }\n",
       "\n",
       "    .dataframe tbody tr th {\n",
       "        vertical-align: top;\n",
       "    }\n",
       "\n",
       "    .dataframe thead th {\n",
       "        text-align: right;\n",
       "    }\n",
       "</style>\n",
       "<table border=\"1\" class=\"dataframe\">\n",
       "  <thead>\n",
       "    <tr style=\"text-align: right;\">\n",
       "      <th></th>\n",
       "      <th>screen_name</th>\n",
       "      <th>text_raw</th>\n",
       "    </tr>\n",
       "  </thead>\n",
       "  <tbody>\n",
       "    <tr>\n",
       "      <th>0</th>\n",
       "      <td>重头戏</td>\n",
       "      <td>#于和伟确诊甲流# 你现在身体状况如何？ http://t.cn/A6CWG4ri ​​​</td>\n",
       "    </tr>\n",
       "    <tr>\n",
       "      <th>1</th>\n",
       "      <td>第一财经日报</td>\n",
       "      <td>【投票：你是文科生还是理科生？】#我国理工科学生比例下降#】“我国理工科学生比例下降，存在学...</td>\n",
       "    </tr>\n",
       "    <tr>\n",
       "      <th>2</th>\n",
       "      <td>星综屏影</td>\n",
       "      <td>#包贝尔酒吧甩掉美女飞速离开#\\n不知道美女和包贝尔说了啥，他头也不回的走了。你是如何认识包...</td>\n",
       "    </tr>\n",
       "    <tr>\n",
       "      <th>3</th>\n",
       "      <td>深扒王</td>\n",
       "      <td>#王智泳装#你认识王智吗？[思考] http://t.cn/A6CSJMOO ​​​</td>\n",
       "    </tr>\n",
       "    <tr>\n",
       "      <th>4</th>\n",
       "      <td>财经网科技</td>\n",
       "      <td>#iPhone13是去年最畅销智能机# 你最喜欢哪款iPhone？#为何iPhone14不如...</td>\n",
       "    </tr>\n",
       "    <tr>\n",
       "      <th>...</th>\n",
       "      <td>...</td>\n",
       "      <td>...</td>\n",
       "    </tr>\n",
       "    <tr>\n",
       "      <th>118</th>\n",
       "      <td>叶然</td>\n",
       "      <td>今日投票：#再次见到初恋是什么感觉# http://t.cn/AiD3rrAP ​​​</td>\n",
       "    </tr>\n",
       "    <tr>\n",
       "      <th>119</th>\n",
       "      <td>广州日报</td>\n",
       "      <td>【我和我的祖国破8亿，中国机长破5亿，攀登者破3亿丨国庆档电影你看了哪部？】国庆档三部主旋律...</td>\n",
       "    </tr>\n",
       "    <tr>\n",
       "      <th>120</th>\n",
       "      <td>新浪娱乐</td>\n",
       "      <td>#鹿依否认与吴亦凡交往#就在刚刚，吴亦凡近两日恋爱传闻的女主角@鹿依Luna 微博发文称，“...</td>\n",
       "    </tr>\n",
       "    <tr>\n",
       "      <th>121</th>\n",
       "      <td>大口笑_</td>\n",
       "      <td>妈妈们出游的拍照方式[笑cry]\\n#搞笑视频# http://t.cn/E6grnId ​​​</td>\n",
       "    </tr>\n",
       "    <tr>\n",
       "      <th>122</th>\n",
       "      <td>-少女甜片</td>\n",
       "      <td>惊呆了[吃惊][吃惊][吃惊]原来马云爸爸说的都是真的。。。  http://t.cn/EJ...</td>\n",
       "    </tr>\n",
       "  </tbody>\n",
       "</table>\n",
       "<p>123 rows × 2 columns</p>\n",
       "</div>"
      ],
      "text/plain": [
       "    screen_name                                           text_raw\n",
       "0           重头戏      #于和伟确诊甲流# 你现在身体状况如何？ http://t.cn/A6CWG4ri ​​​\n",
       "1        第一财经日报  【投票：你是文科生还是理科生？】#我国理工科学生比例下降#】“我国理工科学生比例下降，存在学...\n",
       "2          星综屏影  #包贝尔酒吧甩掉美女飞速离开#\\n不知道美女和包贝尔说了啥，他头也不回的走了。你是如何认识包...\n",
       "3           深扒王         #王智泳装#你认识王智吗？[思考] http://t.cn/A6CSJMOO ​​​\n",
       "4         财经网科技  #iPhone13是去年最畅销智能机# 你最喜欢哪款iPhone？#为何iPhone14不如...\n",
       "..          ...                                                ...\n",
       "118          叶然        今日投票：#再次见到初恋是什么感觉# http://t.cn/AiD3rrAP ​​​\n",
       "119        广州日报  【我和我的祖国破8亿，中国机长破5亿，攀登者破3亿丨国庆档电影你看了哪部？】国庆档三部主旋律...\n",
       "120        新浪娱乐  #鹿依否认与吴亦凡交往#就在刚刚，吴亦凡近两日恋爱传闻的女主角@鹿依Luna 微博发文称，“...\n",
       "121        大口笑_   妈妈们出游的拍照方式[笑cry]\\n#搞笑视频# http://t.cn/E6grnId ​​​\n",
       "122       -少女甜片  惊呆了[吃惊][吃惊][吃惊]原来马云爸爸说的都是真的。。。  http://t.cn/EJ...\n",
       "\n",
       "[123 rows x 2 columns]"
      ]
     },
     "execution_count": 8,
     "metadata": {},
     "output_type": "execute_result"
    }
   ],
   "source": [
    "df"
   ]
  },
  {
   "cell_type": "code",
   "execution_count": null,
   "metadata": {},
   "outputs": [],
   "source": []
  }
 ],
 "metadata": {
  "kernelspec": {
   "display_name": "torch1.7.1",
   "language": "python",
   "name": "python3"
  },
  "language_info": {
   "codemirror_mode": {
    "name": "ipython",
    "version": 3
   },
   "file_extension": ".py",
   "mimetype": "text/x-python",
   "name": "python",
   "nbconvert_exporter": "python",
   "pygments_lexer": "ipython3",
   "version": "3.7.7"
  },
  "orig_nbformat": 4,
  "vscode": {
   "interpreter": {
    "hash": "687c8f21f41a261258b6b8472f206003a5139c4deaaa2118678d5c0c86ae6196"
   }
  }
 },
 "nbformat": 4,
 "nbformat_minor": 2
}
