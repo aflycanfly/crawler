{
 "cells": [
  {
   "cell_type": "markdown",
   "metadata": {},
   "source": [
    "# 使用Python爬取豆瓣TOP250电影榜\n",
    "\n",
    "+ 使用requests爬取网页\n",
    "+ 使用BeautifulSoup实现数据解析\n",
    "+ 借助pandas将数据写出到Excel"
   ]
  },
  {
   "cell_type": "code",
   "execution_count": 11,
   "metadata": {},
   "outputs": [],
   "source": [
    "import requests\n",
    "from  bs4 import BeautifulSoup\n",
    "import pprint\n",
    "import json\n",
    "import pandas as pd"
   ]
  },
  {
   "cell_type": "markdown",
   "metadata": {},
   "source": [
    "## 下载共10个页面的html"
   ]
  },
  {
   "cell_type": "code",
   "execution_count": 12,
   "metadata": {},
   "outputs": [],
   "source": [
    "page_indexs = range(0,250,25)"
   ]
  },
  {
   "cell_type": "code",
   "execution_count": 13,
   "metadata": {},
   "outputs": [
    {
     "data": {
      "text/plain": [
       "[0, 25, 50, 75, 100, 125, 150, 175, 200, 225]"
      ]
     },
     "execution_count": 13,
     "metadata": {},
     "output_type": "execute_result"
    }
   ],
   "source": [
    "list(page_indexs)"
   ]
  },
  {
   "cell_type": "code",
   "execution_count": 14,
   "metadata": {},
   "outputs": [],
   "source": [
    "#下载所有列表页面的html，用于后续分析\n",
    "def download_all_htmls():\n",
    "    htmls = []\n",
    "    for idx in page_indexs:\n",
    "        url = f\"https://movie.douban.com/top250?start={idx}&filter=\"\n",
    "        print(\"craw html: {}\".format(url))\n",
    " \n",
    "\n",
    "        header = { \n",
    "        \"User-Agent\": \"\"\"Mozilla/5.0 (Windows NT 10.0; Win64; x64) AppleWebKit/537.36 (KHTML, like Gecko) Chrome/107.0.0.0 Safari/537.36\"\"\"\n",
    "        }    \n",
    "        r = requests.get(url=url,headers=header,timeout=10)\n",
    "        if r.status_code != 200:\n",
    "            raise Exception(\"request error status code:{}\".format(r.status_code))\n",
    "        htmls.append(r.text)\n",
    "    return htmls"
   ]
  },
  {
   "cell_type": "code",
   "execution_count": 15,
   "metadata": {},
   "outputs": [
    {
     "name": "stdout",
     "output_type": "stream",
     "text": [
      "craw html: https://movie.douban.com/top250?start=0&filter=\n",
      "craw html: https://movie.douban.com/top250?start=25&filter=\n",
      "craw html: https://movie.douban.com/top250?start=50&filter=\n",
      "craw html: https://movie.douban.com/top250?start=75&filter=\n",
      "craw html: https://movie.douban.com/top250?start=100&filter=\n",
      "craw html: https://movie.douban.com/top250?start=125&filter=\n",
      "craw html: https://movie.douban.com/top250?start=150&filter=\n",
      "craw html: https://movie.douban.com/top250?start=175&filter=\n",
      "craw html: https://movie.douban.com/top250?start=200&filter=\n",
      "craw html: https://movie.douban.com/top250?start=225&filter=\n"
     ]
    }
   ],
   "source": [
    "htmls = download_all_htmls()"
   ]
  },
  {
   "cell_type": "markdown",
   "metadata": {},
   "source": [
    "## 解析HTML得到数据"
   ]
  },
  {
   "cell_type": "code",
   "execution_count": 7,
   "metadata": {},
   "outputs": [],
   "source": [
    "def parse_single_page(html):\n",
    "    soup = BeautifulSoup(html, \"html.parser\")\n",
    "    movie_list = soup.find(\"ol\", class_=\"grid_view\").find_all(\"div\",class_=\"item\")\n",
    "\n",
    "    datas = []\n",
    "    for movie in movie_list:\n",
    "        rank = movie.find(\"em\").get_text()\n",
    "        title = movie.find(\"span\",class_=\"title\").text\n",
    "        starts = movie.find(\"div\",class_=\"star\").find_all(\"span\")\n",
    "        score = int(starts[0][\"class\"][0].replace(\"rating\",\"\").replace(\"-t\",\"\"))\n",
    "        rating_num = starts[1].get_text()\n",
    "        comment_num = starts[3].get_text()\n",
    "        datas.append({\n",
    "            \"rank\":rank,\n",
    "            \"title\":title,\n",
    "            \"score\": score if score<=5 else score/10,\n",
    "            \"rating_num\":rating_num,\n",
    "            \"comment_num\":comment_num.replace(\"人评价\",\"\")\n",
    "        })\n",
    "    return datas\n",
    "\n"
   ]
  },
  {
   "cell_type": "code",
   "execution_count": 9,
   "metadata": {},
   "outputs": [],
   "source": [
    "all_data = []\n",
    "for html in htmls:\n",
    "    datas = parse_single_page(html)\n",
    "    all_data.extend(datas)\n"
   ]
  },
  {
   "cell_type": "markdown",
   "metadata": {},
   "source": [
    "## 将结果存入excel"
   ]
  },
  {
   "cell_type": "code",
   "execution_count": 72,
   "metadata": {},
   "outputs": [],
   "source": [
    "movie_pd=pd.DataFrame(all_data)\n",
    "movie_pd.to_csv(\"doubanTop250.csv\",index=False,encoding=\"utf-8-sig\")"
   ]
  },
  {
   "cell_type": "markdown",
   "metadata": {},
   "source": []
  }
 ],
 "metadata": {
  "kernelspec": {
   "display_name": "torch1.7.1",
   "language": "python",
   "name": "python3"
  },
  "language_info": {
   "codemirror_mode": {
    "name": "ipython",
    "version": 3
   },
   "file_extension": ".py",
   "mimetype": "text/x-python",
   "name": "python",
   "nbconvert_exporter": "python",
   "pygments_lexer": "ipython3",
   "version": "3.7.13"
  },
  "orig_nbformat": 4,
  "vscode": {
   "interpreter": {
    "hash": "687c8f21f41a261258b6b8472f206003a5139c4deaaa2118678d5c0c86ae6196"
   }
  }
 },
 "nbformat": 4,
 "nbformat_minor": 2
}
